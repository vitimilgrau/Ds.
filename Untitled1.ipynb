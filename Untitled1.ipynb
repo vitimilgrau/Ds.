{
 "cells": [
  {
   "cell_type": "code",
   "execution_count": 34,
   "id": "fe1ffb1a-38c6-4f7d-a66b-a53cc25b8780",
   "metadata": {},
   "outputs": [
    {
     "name": "stdout",
     "output_type": "stream",
     "text": [
      "Olá meu nome é Victor\n",
      "Minha idade é 16\n",
      "Meu curso é DS\n"
     ]
    }
   ],
   "source": [
    "class Aluno:\n",
    "    def __init__(self, nome, idade, curso):\n",
    "        self.nome = nome\n",
    "        self.idade = idade\n",
    "        self.curso = curso\n",
    "\n",
    "    def apresentar(self):\n",
    "        print(f'Olá meu nome é {self.nome}')\n",
    "        print(f'Minha idade é {self.idade}')\n",
    "        print(f'Meu curso é {self.curso}')\n",
    "aluno1 = Aluno(\"Victor\", \"16\", \"DS\")\n",
    "aluno1.apresentar()"
   ]
  },
  {
   "cell_type": "code",
   "execution_count": null,
   "id": "bbb58a04-f4b8-4a65-814c-602839de715b",
   "metadata": {},
   "outputs": [],
   "source": []
  },
  {
   "cell_type": "code",
   "execution_count": null,
   "id": "3674e2da-edfd-4249-84a7-a3386c3c4fb5",
   "metadata": {},
   "outputs": [],
   "source": []
  }
 ],
 "metadata": {
  "kernelspec": {
   "display_name": "Python [conda env:base] *",
   "language": "python",
   "name": "conda-base-py"
  },
  "language_info": {
   "codemirror_mode": {
    "name": "ipython",
    "version": 3
   },
   "file_extension": ".py",
   "mimetype": "text/x-python",
   "name": "python",
   "nbconvert_exporter": "python",
   "pygments_lexer": "ipython3",
   "version": "3.12.7"
  }
 },
 "nbformat": 4,
 "nbformat_minor": 5
}
